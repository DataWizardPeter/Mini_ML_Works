{
 "cells": [
  {
   "cell_type": "code",
   "execution_count": 253,
   "id": "1b53138e",
   "metadata": {},
   "outputs": [],
   "source": [
    "import pandas as pd"
   ]
  },
  {
   "cell_type": "code",
   "execution_count": 254,
   "id": "7a9e8b6c",
   "metadata": {},
   "outputs": [],
   "source": [
    "df_health=pd.read_csv(r\"patient_health_data.csv\")"
   ]
  },
  {
   "cell_type": "code",
   "execution_count": 255,
   "id": "839300ef",
   "metadata": {},
   "outputs": [
    {
     "data": {
      "text/plain": [
       "age                  0\n",
       "bmi                  0\n",
       "blood_pressure       0\n",
       "cholesterol          0\n",
       "glucose              0\n",
       "insulin              0\n",
       "heart_rate           0\n",
       "activity_level       0\n",
       "diet_quality         0\n",
       "smoking_status       0\n",
       "alcohol_intake       0\n",
       "health_risk_score    0\n",
       "dtype: int64"
      ]
     },
     "execution_count": 255,
     "metadata": {},
     "output_type": "execute_result"
    }
   ],
   "source": [
    "df_health.isna().sum()"
   ]
  },
  {
   "cell_type": "code",
   "execution_count": 256,
   "id": "9f2e6a7d",
   "metadata": {},
   "outputs": [
    {
     "data": {
      "text/plain": [
       "(250, 12)"
      ]
     },
     "execution_count": 256,
     "metadata": {},
     "output_type": "execute_result"
    }
   ],
   "source": [
    "df_health.shape"
   ]
  },
  {
   "cell_type": "code",
   "execution_count": 257,
   "id": "6daa4c4e",
   "metadata": {},
   "outputs": [
    {
     "data": {
      "text/html": [
       "<div>\n",
       "<style scoped>\n",
       "    .dataframe tbody tr th:only-of-type {\n",
       "        vertical-align: middle;\n",
       "    }\n",
       "\n",
       "    .dataframe tbody tr th {\n",
       "        vertical-align: top;\n",
       "    }\n",
       "\n",
       "    .dataframe thead th {\n",
       "        text-align: right;\n",
       "    }\n",
       "</style>\n",
       "<table border=\"1\" class=\"dataframe\">\n",
       "  <thead>\n",
       "    <tr style=\"text-align: right;\">\n",
       "      <th></th>\n",
       "      <th>age</th>\n",
       "      <th>bmi</th>\n",
       "      <th>blood_pressure</th>\n",
       "      <th>cholesterol</th>\n",
       "      <th>glucose</th>\n",
       "      <th>insulin</th>\n",
       "      <th>heart_rate</th>\n",
       "      <th>activity_level</th>\n",
       "      <th>diet_quality</th>\n",
       "      <th>smoking_status</th>\n",
       "      <th>alcohol_intake</th>\n",
       "      <th>health_risk_score</th>\n",
       "    </tr>\n",
       "  </thead>\n",
       "  <tbody>\n",
       "    <tr>\n",
       "      <th>0</th>\n",
       "      <td>58</td>\n",
       "      <td>24.865215</td>\n",
       "      <td>122.347094</td>\n",
       "      <td>165.730375</td>\n",
       "      <td>149.289441</td>\n",
       "      <td>22.306844</td>\n",
       "      <td>75.866391</td>\n",
       "      <td>1.180237</td>\n",
       "      <td>7.675409</td>\n",
       "      <td>No</td>\n",
       "      <td>0.824123</td>\n",
       "      <td>150.547752</td>\n",
       "    </tr>\n",
       "    <tr>\n",
       "      <th>1</th>\n",
       "      <td>71</td>\n",
       "      <td>19.103168</td>\n",
       "      <td>136.852028</td>\n",
       "      <td>260.610781</td>\n",
       "      <td>158.584646</td>\n",
       "      <td>13.869817</td>\n",
       "      <td>69.481114</td>\n",
       "      <td>7.634622</td>\n",
       "      <td>8.933057</td>\n",
       "      <td>No</td>\n",
       "      <td>0.852910</td>\n",
       "      <td>160.320350</td>\n",
       "    </tr>\n",
       "    <tr>\n",
       "      <th>2</th>\n",
       "      <td>48</td>\n",
       "      <td>22.316562</td>\n",
       "      <td>137.592457</td>\n",
       "      <td>177.342582</td>\n",
       "      <td>178.760166</td>\n",
       "      <td>22.849816</td>\n",
       "      <td>69.386962</td>\n",
       "      <td>7.917398</td>\n",
       "      <td>3.501119</td>\n",
       "      <td>Yes</td>\n",
       "      <td>4.740542</td>\n",
       "      <td>187.487398</td>\n",
       "    </tr>\n",
       "    <tr>\n",
       "      <th>3</th>\n",
       "      <td>34</td>\n",
       "      <td>22.196893</td>\n",
       "      <td>153.164775</td>\n",
       "      <td>234.594764</td>\n",
       "      <td>136.351714</td>\n",
       "      <td>15.140336</td>\n",
       "      <td>95.348387</td>\n",
       "      <td>3.192910</td>\n",
       "      <td>2.745585</td>\n",
       "      <td>No</td>\n",
       "      <td>2.226231</td>\n",
       "      <td>148.773138</td>\n",
       "    </tr>\n",
       "    <tr>\n",
       "      <th>4</th>\n",
       "      <td>62</td>\n",
       "      <td>29.837173</td>\n",
       "      <td>92.768973</td>\n",
       "      <td>276.106498</td>\n",
       "      <td>158.753516</td>\n",
       "      <td>17.228576</td>\n",
       "      <td>77.680975</td>\n",
       "      <td>7.044026</td>\n",
       "      <td>8.918348</td>\n",
       "      <td>No</td>\n",
       "      <td>3.944011</td>\n",
       "      <td>170.609655</td>\n",
       "    </tr>\n",
       "  </tbody>\n",
       "</table>\n",
       "</div>"
      ],
      "text/plain": [
       "   age        bmi  blood_pressure  cholesterol     glucose    insulin  \\\n",
       "0   58  24.865215      122.347094   165.730375  149.289441  22.306844   \n",
       "1   71  19.103168      136.852028   260.610781  158.584646  13.869817   \n",
       "2   48  22.316562      137.592457   177.342582  178.760166  22.849816   \n",
       "3   34  22.196893      153.164775   234.594764  136.351714  15.140336   \n",
       "4   62  29.837173       92.768973   276.106498  158.753516  17.228576   \n",
       "\n",
       "   heart_rate  activity_level  diet_quality smoking_status  alcohol_intake  \\\n",
       "0   75.866391        1.180237      7.675409             No        0.824123   \n",
       "1   69.481114        7.634622      8.933057             No        0.852910   \n",
       "2   69.386962        7.917398      3.501119            Yes        4.740542   \n",
       "3   95.348387        3.192910      2.745585             No        2.226231   \n",
       "4   77.680975        7.044026      8.918348             No        3.944011   \n",
       "\n",
       "   health_risk_score  \n",
       "0         150.547752  \n",
       "1         160.320350  \n",
       "2         187.487398  \n",
       "3         148.773138  \n",
       "4         170.609655  "
      ]
     },
     "execution_count": 257,
     "metadata": {},
     "output_type": "execute_result"
    }
   ],
   "source": [
    "df_health.head(5)"
   ]
  },
  {
   "cell_type": "code",
   "execution_count": 258,
   "id": "ee5f0cfa",
   "metadata": {},
   "outputs": [],
   "source": [
    "df_health=pd.get_dummies(df_health,columns=[\"smoking_status\"],drop_first=True,prefix_sep=\"_\")"
   ]
  },
  {
   "cell_type": "code",
   "execution_count": 259,
   "id": "5a3d81df",
   "metadata": {},
   "outputs": [
    {
     "data": {
      "text/html": [
       "<div>\n",
       "<style scoped>\n",
       "    .dataframe tbody tr th:only-of-type {\n",
       "        vertical-align: middle;\n",
       "    }\n",
       "\n",
       "    .dataframe tbody tr th {\n",
       "        vertical-align: top;\n",
       "    }\n",
       "\n",
       "    .dataframe thead th {\n",
       "        text-align: right;\n",
       "    }\n",
       "</style>\n",
       "<table border=\"1\" class=\"dataframe\">\n",
       "  <thead>\n",
       "    <tr style=\"text-align: right;\">\n",
       "      <th></th>\n",
       "      <th>age</th>\n",
       "      <th>bmi</th>\n",
       "      <th>blood_pressure</th>\n",
       "      <th>cholesterol</th>\n",
       "      <th>glucose</th>\n",
       "      <th>insulin</th>\n",
       "      <th>heart_rate</th>\n",
       "      <th>activity_level</th>\n",
       "      <th>diet_quality</th>\n",
       "      <th>alcohol_intake</th>\n",
       "      <th>health_risk_score</th>\n",
       "      <th>smoking_status_Yes</th>\n",
       "    </tr>\n",
       "  </thead>\n",
       "  <tbody>\n",
       "    <tr>\n",
       "      <th>0</th>\n",
       "      <td>58</td>\n",
       "      <td>24.865215</td>\n",
       "      <td>122.347094</td>\n",
       "      <td>165.730375</td>\n",
       "      <td>149.289441</td>\n",
       "      <td>22.306844</td>\n",
       "      <td>75.866391</td>\n",
       "      <td>1.180237</td>\n",
       "      <td>7.675409</td>\n",
       "      <td>0.824123</td>\n",
       "      <td>150.547752</td>\n",
       "      <td>0</td>\n",
       "    </tr>\n",
       "    <tr>\n",
       "      <th>1</th>\n",
       "      <td>71</td>\n",
       "      <td>19.103168</td>\n",
       "      <td>136.852028</td>\n",
       "      <td>260.610781</td>\n",
       "      <td>158.584646</td>\n",
       "      <td>13.869817</td>\n",
       "      <td>69.481114</td>\n",
       "      <td>7.634622</td>\n",
       "      <td>8.933057</td>\n",
       "      <td>0.852910</td>\n",
       "      <td>160.320350</td>\n",
       "      <td>0</td>\n",
       "    </tr>\n",
       "    <tr>\n",
       "      <th>2</th>\n",
       "      <td>48</td>\n",
       "      <td>22.316562</td>\n",
       "      <td>137.592457</td>\n",
       "      <td>177.342582</td>\n",
       "      <td>178.760166</td>\n",
       "      <td>22.849816</td>\n",
       "      <td>69.386962</td>\n",
       "      <td>7.917398</td>\n",
       "      <td>3.501119</td>\n",
       "      <td>4.740542</td>\n",
       "      <td>187.487398</td>\n",
       "      <td>1</td>\n",
       "    </tr>\n",
       "    <tr>\n",
       "      <th>3</th>\n",
       "      <td>34</td>\n",
       "      <td>22.196893</td>\n",
       "      <td>153.164775</td>\n",
       "      <td>234.594764</td>\n",
       "      <td>136.351714</td>\n",
       "      <td>15.140336</td>\n",
       "      <td>95.348387</td>\n",
       "      <td>3.192910</td>\n",
       "      <td>2.745585</td>\n",
       "      <td>2.226231</td>\n",
       "      <td>148.773138</td>\n",
       "      <td>0</td>\n",
       "    </tr>\n",
       "    <tr>\n",
       "      <th>4</th>\n",
       "      <td>62</td>\n",
       "      <td>29.837173</td>\n",
       "      <td>92.768973</td>\n",
       "      <td>276.106498</td>\n",
       "      <td>158.753516</td>\n",
       "      <td>17.228576</td>\n",
       "      <td>77.680975</td>\n",
       "      <td>7.044026</td>\n",
       "      <td>8.918348</td>\n",
       "      <td>3.944011</td>\n",
       "      <td>170.609655</td>\n",
       "      <td>0</td>\n",
       "    </tr>\n",
       "    <tr>\n",
       "      <th>...</th>\n",
       "      <td>...</td>\n",
       "      <td>...</td>\n",
       "      <td>...</td>\n",
       "      <td>...</td>\n",
       "      <td>...</td>\n",
       "      <td>...</td>\n",
       "      <td>...</td>\n",
       "      <td>...</td>\n",
       "      <td>...</td>\n",
       "      <td>...</td>\n",
       "      <td>...</td>\n",
       "      <td>...</td>\n",
       "    </tr>\n",
       "    <tr>\n",
       "      <th>245</th>\n",
       "      <td>73</td>\n",
       "      <td>33.923019</td>\n",
       "      <td>154.961623</td>\n",
       "      <td>239.257347</td>\n",
       "      <td>175.833417</td>\n",
       "      <td>11.178057</td>\n",
       "      <td>99.249455</td>\n",
       "      <td>8.894246</td>\n",
       "      <td>1.837274</td>\n",
       "      <td>3.200992</td>\n",
       "      <td>162.542038</td>\n",
       "      <td>0</td>\n",
       "    </tr>\n",
       "    <tr>\n",
       "      <th>246</th>\n",
       "      <td>51</td>\n",
       "      <td>18.666168</td>\n",
       "      <td>83.047215</td>\n",
       "      <td>200.890687</td>\n",
       "      <td>82.041575</td>\n",
       "      <td>21.733684</td>\n",
       "      <td>78.995462</td>\n",
       "      <td>4.904205</td>\n",
       "      <td>1.264277</td>\n",
       "      <td>1.492175</td>\n",
       "      <td>136.146456</td>\n",
       "      <td>0</td>\n",
       "    </tr>\n",
       "    <tr>\n",
       "      <th>247</th>\n",
       "      <td>51</td>\n",
       "      <td>25.105083</td>\n",
       "      <td>166.721498</td>\n",
       "      <td>235.416528</td>\n",
       "      <td>168.392792</td>\n",
       "      <td>2.207699</td>\n",
       "      <td>75.301051</td>\n",
       "      <td>2.447634</td>\n",
       "      <td>8.406626</td>\n",
       "      <td>1.201912</td>\n",
       "      <td>156.758986</td>\n",
       "      <td>0</td>\n",
       "    </tr>\n",
       "    <tr>\n",
       "      <th>248</th>\n",
       "      <td>43</td>\n",
       "      <td>34.448869</td>\n",
       "      <td>115.414667</td>\n",
       "      <td>283.119072</td>\n",
       "      <td>179.062287</td>\n",
       "      <td>15.533491</td>\n",
       "      <td>64.793160</td>\n",
       "      <td>6.022381</td>\n",
       "      <td>2.887777</td>\n",
       "      <td>1.559495</td>\n",
       "      <td>204.649145</td>\n",
       "      <td>0</td>\n",
       "    </tr>\n",
       "    <tr>\n",
       "      <th>249</th>\n",
       "      <td>60</td>\n",
       "      <td>27.315522</td>\n",
       "      <td>119.716383</td>\n",
       "      <td>233.508238</td>\n",
       "      <td>76.766873</td>\n",
       "      <td>15.770422</td>\n",
       "      <td>98.966585</td>\n",
       "      <td>8.305770</td>\n",
       "      <td>4.411244</td>\n",
       "      <td>1.280238</td>\n",
       "      <td>106.408929</td>\n",
       "      <td>1</td>\n",
       "    </tr>\n",
       "  </tbody>\n",
       "</table>\n",
       "<p>250 rows × 12 columns</p>\n",
       "</div>"
      ],
      "text/plain": [
       "     age        bmi  blood_pressure  cholesterol     glucose    insulin  \\\n",
       "0     58  24.865215      122.347094   165.730375  149.289441  22.306844   \n",
       "1     71  19.103168      136.852028   260.610781  158.584646  13.869817   \n",
       "2     48  22.316562      137.592457   177.342582  178.760166  22.849816   \n",
       "3     34  22.196893      153.164775   234.594764  136.351714  15.140336   \n",
       "4     62  29.837173       92.768973   276.106498  158.753516  17.228576   \n",
       "..   ...        ...             ...          ...         ...        ...   \n",
       "245   73  33.923019      154.961623   239.257347  175.833417  11.178057   \n",
       "246   51  18.666168       83.047215   200.890687   82.041575  21.733684   \n",
       "247   51  25.105083      166.721498   235.416528  168.392792   2.207699   \n",
       "248   43  34.448869      115.414667   283.119072  179.062287  15.533491   \n",
       "249   60  27.315522      119.716383   233.508238   76.766873  15.770422   \n",
       "\n",
       "     heart_rate  activity_level  diet_quality  alcohol_intake  \\\n",
       "0     75.866391        1.180237      7.675409        0.824123   \n",
       "1     69.481114        7.634622      8.933057        0.852910   \n",
       "2     69.386962        7.917398      3.501119        4.740542   \n",
       "3     95.348387        3.192910      2.745585        2.226231   \n",
       "4     77.680975        7.044026      8.918348        3.944011   \n",
       "..          ...             ...           ...             ...   \n",
       "245   99.249455        8.894246      1.837274        3.200992   \n",
       "246   78.995462        4.904205      1.264277        1.492175   \n",
       "247   75.301051        2.447634      8.406626        1.201912   \n",
       "248   64.793160        6.022381      2.887777        1.559495   \n",
       "249   98.966585        8.305770      4.411244        1.280238   \n",
       "\n",
       "     health_risk_score  smoking_status_Yes  \n",
       "0           150.547752                   0  \n",
       "1           160.320350                   0  \n",
       "2           187.487398                   1  \n",
       "3           148.773138                   0  \n",
       "4           170.609655                   0  \n",
       "..                 ...                 ...  \n",
       "245         162.542038                   0  \n",
       "246         136.146456                   0  \n",
       "247         156.758986                   0  \n",
       "248         204.649145                   0  \n",
       "249         106.408929                   1  \n",
       "\n",
       "[250 rows x 12 columns]"
      ]
     },
     "execution_count": 259,
     "metadata": {},
     "output_type": "execute_result"
    }
   ],
   "source": [
    "df_health"
   ]
  },
  {
   "cell_type": "code",
   "execution_count": 260,
   "id": "7312ef11",
   "metadata": {},
   "outputs": [],
   "source": [
    "X=df_health.drop(\"health_risk_score\",axis=1)\n",
    "y=df_health.health_risk_score"
   ]
  },
  {
   "cell_type": "code",
   "execution_count": 261,
   "id": "be3af95e",
   "metadata": {},
   "outputs": [],
   "source": [
    "from sklearn.linear_model import LinearRegression, Lasso, Ridge"
   ]
  },
  {
   "cell_type": "code",
   "execution_count": 262,
   "id": "0137f51e",
   "metadata": {},
   "outputs": [],
   "source": [
    "from sklearn.model_selection import train_test_split"
   ]
  },
  {
   "cell_type": "code",
   "execution_count": 263,
   "id": "4953a13e",
   "metadata": {},
   "outputs": [],
   "source": [
    "X_train,X_test,y_train,y_test=train_test_split(X,y,test_size=0.2,random_state=50)"
   ]
  },
  {
   "cell_type": "code",
   "execution_count": 264,
   "id": "b39cb609",
   "metadata": {},
   "outputs": [],
   "source": [
    "health_score_Linear_model=LinearRegression()\n",
    "health_score_Lasso_model=Lasso(alpha=1.0)\n",
    "health_score_Ridge_model=Ridge(alpha=2.5)"
   ]
  },
  {
   "cell_type": "code",
   "execution_count": 265,
   "id": "eed2b7cc",
   "metadata": {},
   "outputs": [
    {
     "data": {
      "text/html": [
       "<style>#sk-container-id-35 {color: black;background-color: white;}#sk-container-id-35 pre{padding: 0;}#sk-container-id-35 div.sk-toggleable {background-color: white;}#sk-container-id-35 label.sk-toggleable__label {cursor: pointer;display: block;width: 100%;margin-bottom: 0;padding: 0.3em;box-sizing: border-box;text-align: center;}#sk-container-id-35 label.sk-toggleable__label-arrow:before {content: \"▸\";float: left;margin-right: 0.25em;color: #696969;}#sk-container-id-35 label.sk-toggleable__label-arrow:hover:before {color: black;}#sk-container-id-35 div.sk-estimator:hover label.sk-toggleable__label-arrow:before {color: black;}#sk-container-id-35 div.sk-toggleable__content {max-height: 0;max-width: 0;overflow: hidden;text-align: left;background-color: #f0f8ff;}#sk-container-id-35 div.sk-toggleable__content pre {margin: 0.2em;color: black;border-radius: 0.25em;background-color: #f0f8ff;}#sk-container-id-35 input.sk-toggleable__control:checked~div.sk-toggleable__content {max-height: 200px;max-width: 100%;overflow: auto;}#sk-container-id-35 input.sk-toggleable__control:checked~label.sk-toggleable__label-arrow:before {content: \"▾\";}#sk-container-id-35 div.sk-estimator input.sk-toggleable__control:checked~label.sk-toggleable__label {background-color: #d4ebff;}#sk-container-id-35 div.sk-label input.sk-toggleable__control:checked~label.sk-toggleable__label {background-color: #d4ebff;}#sk-container-id-35 input.sk-hidden--visually {border: 0;clip: rect(1px 1px 1px 1px);clip: rect(1px, 1px, 1px, 1px);height: 1px;margin: -1px;overflow: hidden;padding: 0;position: absolute;width: 1px;}#sk-container-id-35 div.sk-estimator {font-family: monospace;background-color: #f0f8ff;border: 1px dotted black;border-radius: 0.25em;box-sizing: border-box;margin-bottom: 0.5em;}#sk-container-id-35 div.sk-estimator:hover {background-color: #d4ebff;}#sk-container-id-35 div.sk-parallel-item::after {content: \"\";width: 100%;border-bottom: 1px solid gray;flex-grow: 1;}#sk-container-id-35 div.sk-label:hover label.sk-toggleable__label {background-color: #d4ebff;}#sk-container-id-35 div.sk-serial::before {content: \"\";position: absolute;border-left: 1px solid gray;box-sizing: border-box;top: 0;bottom: 0;left: 50%;z-index: 0;}#sk-container-id-35 div.sk-serial {display: flex;flex-direction: column;align-items: center;background-color: white;padding-right: 0.2em;padding-left: 0.2em;position: relative;}#sk-container-id-35 div.sk-item {position: relative;z-index: 1;}#sk-container-id-35 div.sk-parallel {display: flex;align-items: stretch;justify-content: center;background-color: white;position: relative;}#sk-container-id-35 div.sk-item::before, #sk-container-id-35 div.sk-parallel-item::before {content: \"\";position: absolute;border-left: 1px solid gray;box-sizing: border-box;top: 0;bottom: 0;left: 50%;z-index: -1;}#sk-container-id-35 div.sk-parallel-item {display: flex;flex-direction: column;z-index: 1;position: relative;background-color: white;}#sk-container-id-35 div.sk-parallel-item:first-child::after {align-self: flex-end;width: 50%;}#sk-container-id-35 div.sk-parallel-item:last-child::after {align-self: flex-start;width: 50%;}#sk-container-id-35 div.sk-parallel-item:only-child::after {width: 0;}#sk-container-id-35 div.sk-dashed-wrapped {border: 1px dashed gray;margin: 0 0.4em 0.5em 0.4em;box-sizing: border-box;padding-bottom: 0.4em;background-color: white;}#sk-container-id-35 div.sk-label label {font-family: monospace;font-weight: bold;display: inline-block;line-height: 1.2em;}#sk-container-id-35 div.sk-label-container {text-align: center;}#sk-container-id-35 div.sk-container {/* jupyter's `normalize.less` sets `[hidden] { display: none; }` but bootstrap.min.css set `[hidden] { display: none !important; }` so we also need the `!important` here to be able to override the default hidden behavior on the sphinx rendered scikit-learn.org. See: https://github.com/scikit-learn/scikit-learn/issues/21755 */display: inline-block !important;position: relative;}#sk-container-id-35 div.sk-text-repr-fallback {display: none;}</style><div id=\"sk-container-id-35\" class=\"sk-top-container\"><div class=\"sk-text-repr-fallback\"><pre>LinearRegression()</pre><b>In a Jupyter environment, please rerun this cell to show the HTML representation or trust the notebook. <br />On GitHub, the HTML representation is unable to render, please try loading this page with nbviewer.org.</b></div><div class=\"sk-container\" hidden><div class=\"sk-item\"><div class=\"sk-estimator sk-toggleable\"><input class=\"sk-toggleable__control sk-hidden--visually\" id=\"sk-estimator-id-35\" type=\"checkbox\" checked><label for=\"sk-estimator-id-35\" class=\"sk-toggleable__label sk-toggleable__label-arrow\">LinearRegression</label><div class=\"sk-toggleable__content\"><pre>LinearRegression()</pre></div></div></div></div></div>"
      ],
      "text/plain": [
       "LinearRegression()"
      ]
     },
     "execution_count": 265,
     "metadata": {},
     "output_type": "execute_result"
    }
   ],
   "source": [
    "health_score_Linear_model.fit(X_train,y_train)"
   ]
  },
  {
   "cell_type": "code",
   "execution_count": 266,
   "id": "7ae4d3ba",
   "metadata": {},
   "outputs": [
    {
     "name": "stdout",
     "output_type": "stream",
     "text": [
      "For Linear_Reg_model we got an Accuracy of : 81.0%\n"
     ]
    }
   ],
   "source": [
    "Accuracy=round(health_score_Linear_model.score(X_test,y_test),2)*100\n",
    "print(f'For Linear_Reg_model we got an Accuracy of : {Accuracy}%')"
   ]
  },
  {
   "cell_type": "code",
   "execution_count": 267,
   "id": "a581c047",
   "metadata": {},
   "outputs": [
    {
     "data": {
      "text/html": [
       "<style>#sk-container-id-36 {color: black;background-color: white;}#sk-container-id-36 pre{padding: 0;}#sk-container-id-36 div.sk-toggleable {background-color: white;}#sk-container-id-36 label.sk-toggleable__label {cursor: pointer;display: block;width: 100%;margin-bottom: 0;padding: 0.3em;box-sizing: border-box;text-align: center;}#sk-container-id-36 label.sk-toggleable__label-arrow:before {content: \"▸\";float: left;margin-right: 0.25em;color: #696969;}#sk-container-id-36 label.sk-toggleable__label-arrow:hover:before {color: black;}#sk-container-id-36 div.sk-estimator:hover label.sk-toggleable__label-arrow:before {color: black;}#sk-container-id-36 div.sk-toggleable__content {max-height: 0;max-width: 0;overflow: hidden;text-align: left;background-color: #f0f8ff;}#sk-container-id-36 div.sk-toggleable__content pre {margin: 0.2em;color: black;border-radius: 0.25em;background-color: #f0f8ff;}#sk-container-id-36 input.sk-toggleable__control:checked~div.sk-toggleable__content {max-height: 200px;max-width: 100%;overflow: auto;}#sk-container-id-36 input.sk-toggleable__control:checked~label.sk-toggleable__label-arrow:before {content: \"▾\";}#sk-container-id-36 div.sk-estimator input.sk-toggleable__control:checked~label.sk-toggleable__label {background-color: #d4ebff;}#sk-container-id-36 div.sk-label input.sk-toggleable__control:checked~label.sk-toggleable__label {background-color: #d4ebff;}#sk-container-id-36 input.sk-hidden--visually {border: 0;clip: rect(1px 1px 1px 1px);clip: rect(1px, 1px, 1px, 1px);height: 1px;margin: -1px;overflow: hidden;padding: 0;position: absolute;width: 1px;}#sk-container-id-36 div.sk-estimator {font-family: monospace;background-color: #f0f8ff;border: 1px dotted black;border-radius: 0.25em;box-sizing: border-box;margin-bottom: 0.5em;}#sk-container-id-36 div.sk-estimator:hover {background-color: #d4ebff;}#sk-container-id-36 div.sk-parallel-item::after {content: \"\";width: 100%;border-bottom: 1px solid gray;flex-grow: 1;}#sk-container-id-36 div.sk-label:hover label.sk-toggleable__label {background-color: #d4ebff;}#sk-container-id-36 div.sk-serial::before {content: \"\";position: absolute;border-left: 1px solid gray;box-sizing: border-box;top: 0;bottom: 0;left: 50%;z-index: 0;}#sk-container-id-36 div.sk-serial {display: flex;flex-direction: column;align-items: center;background-color: white;padding-right: 0.2em;padding-left: 0.2em;position: relative;}#sk-container-id-36 div.sk-item {position: relative;z-index: 1;}#sk-container-id-36 div.sk-parallel {display: flex;align-items: stretch;justify-content: center;background-color: white;position: relative;}#sk-container-id-36 div.sk-item::before, #sk-container-id-36 div.sk-parallel-item::before {content: \"\";position: absolute;border-left: 1px solid gray;box-sizing: border-box;top: 0;bottom: 0;left: 50%;z-index: -1;}#sk-container-id-36 div.sk-parallel-item {display: flex;flex-direction: column;z-index: 1;position: relative;background-color: white;}#sk-container-id-36 div.sk-parallel-item:first-child::after {align-self: flex-end;width: 50%;}#sk-container-id-36 div.sk-parallel-item:last-child::after {align-self: flex-start;width: 50%;}#sk-container-id-36 div.sk-parallel-item:only-child::after {width: 0;}#sk-container-id-36 div.sk-dashed-wrapped {border: 1px dashed gray;margin: 0 0.4em 0.5em 0.4em;box-sizing: border-box;padding-bottom: 0.4em;background-color: white;}#sk-container-id-36 div.sk-label label {font-family: monospace;font-weight: bold;display: inline-block;line-height: 1.2em;}#sk-container-id-36 div.sk-label-container {text-align: center;}#sk-container-id-36 div.sk-container {/* jupyter's `normalize.less` sets `[hidden] { display: none; }` but bootstrap.min.css set `[hidden] { display: none !important; }` so we also need the `!important` here to be able to override the default hidden behavior on the sphinx rendered scikit-learn.org. See: https://github.com/scikit-learn/scikit-learn/issues/21755 */display: inline-block !important;position: relative;}#sk-container-id-36 div.sk-text-repr-fallback {display: none;}</style><div id=\"sk-container-id-36\" class=\"sk-top-container\"><div class=\"sk-text-repr-fallback\"><pre>Lasso()</pre><b>In a Jupyter environment, please rerun this cell to show the HTML representation or trust the notebook. <br />On GitHub, the HTML representation is unable to render, please try loading this page with nbviewer.org.</b></div><div class=\"sk-container\" hidden><div class=\"sk-item\"><div class=\"sk-estimator sk-toggleable\"><input class=\"sk-toggleable__control sk-hidden--visually\" id=\"sk-estimator-id-36\" type=\"checkbox\" checked><label for=\"sk-estimator-id-36\" class=\"sk-toggleable__label sk-toggleable__label-arrow\">Lasso</label><div class=\"sk-toggleable__content\"><pre>Lasso()</pre></div></div></div></div></div>"
      ],
      "text/plain": [
       "Lasso()"
      ]
     },
     "execution_count": 267,
     "metadata": {},
     "output_type": "execute_result"
    }
   ],
   "source": [
    "health_score_Lasso_model.fit(X_train,y_train)"
   ]
  },
  {
   "cell_type": "code",
   "execution_count": 268,
   "id": "5da6e900",
   "metadata": {},
   "outputs": [
    {
     "name": "stdout",
     "output_type": "stream",
     "text": [
      "For Lasso_model we got an Accuracy of : 80.0%\n"
     ]
    }
   ],
   "source": [
    "Accuracy=round(health_score_Lasso_model.score(X_test,y_test),2)*100\n",
    "print(f'For Lasso_model we got an Accuracy of : {Accuracy}%')"
   ]
  },
  {
   "cell_type": "code",
   "execution_count": 269,
   "id": "6d879a03",
   "metadata": {},
   "outputs": [
    {
     "data": {
      "text/html": [
       "<style>#sk-container-id-37 {color: black;background-color: white;}#sk-container-id-37 pre{padding: 0;}#sk-container-id-37 div.sk-toggleable {background-color: white;}#sk-container-id-37 label.sk-toggleable__label {cursor: pointer;display: block;width: 100%;margin-bottom: 0;padding: 0.3em;box-sizing: border-box;text-align: center;}#sk-container-id-37 label.sk-toggleable__label-arrow:before {content: \"▸\";float: left;margin-right: 0.25em;color: #696969;}#sk-container-id-37 label.sk-toggleable__label-arrow:hover:before {color: black;}#sk-container-id-37 div.sk-estimator:hover label.sk-toggleable__label-arrow:before {color: black;}#sk-container-id-37 div.sk-toggleable__content {max-height: 0;max-width: 0;overflow: hidden;text-align: left;background-color: #f0f8ff;}#sk-container-id-37 div.sk-toggleable__content pre {margin: 0.2em;color: black;border-radius: 0.25em;background-color: #f0f8ff;}#sk-container-id-37 input.sk-toggleable__control:checked~div.sk-toggleable__content {max-height: 200px;max-width: 100%;overflow: auto;}#sk-container-id-37 input.sk-toggleable__control:checked~label.sk-toggleable__label-arrow:before {content: \"▾\";}#sk-container-id-37 div.sk-estimator input.sk-toggleable__control:checked~label.sk-toggleable__label {background-color: #d4ebff;}#sk-container-id-37 div.sk-label input.sk-toggleable__control:checked~label.sk-toggleable__label {background-color: #d4ebff;}#sk-container-id-37 input.sk-hidden--visually {border: 0;clip: rect(1px 1px 1px 1px);clip: rect(1px, 1px, 1px, 1px);height: 1px;margin: -1px;overflow: hidden;padding: 0;position: absolute;width: 1px;}#sk-container-id-37 div.sk-estimator {font-family: monospace;background-color: #f0f8ff;border: 1px dotted black;border-radius: 0.25em;box-sizing: border-box;margin-bottom: 0.5em;}#sk-container-id-37 div.sk-estimator:hover {background-color: #d4ebff;}#sk-container-id-37 div.sk-parallel-item::after {content: \"\";width: 100%;border-bottom: 1px solid gray;flex-grow: 1;}#sk-container-id-37 div.sk-label:hover label.sk-toggleable__label {background-color: #d4ebff;}#sk-container-id-37 div.sk-serial::before {content: \"\";position: absolute;border-left: 1px solid gray;box-sizing: border-box;top: 0;bottom: 0;left: 50%;z-index: 0;}#sk-container-id-37 div.sk-serial {display: flex;flex-direction: column;align-items: center;background-color: white;padding-right: 0.2em;padding-left: 0.2em;position: relative;}#sk-container-id-37 div.sk-item {position: relative;z-index: 1;}#sk-container-id-37 div.sk-parallel {display: flex;align-items: stretch;justify-content: center;background-color: white;position: relative;}#sk-container-id-37 div.sk-item::before, #sk-container-id-37 div.sk-parallel-item::before {content: \"\";position: absolute;border-left: 1px solid gray;box-sizing: border-box;top: 0;bottom: 0;left: 50%;z-index: -1;}#sk-container-id-37 div.sk-parallel-item {display: flex;flex-direction: column;z-index: 1;position: relative;background-color: white;}#sk-container-id-37 div.sk-parallel-item:first-child::after {align-self: flex-end;width: 50%;}#sk-container-id-37 div.sk-parallel-item:last-child::after {align-self: flex-start;width: 50%;}#sk-container-id-37 div.sk-parallel-item:only-child::after {width: 0;}#sk-container-id-37 div.sk-dashed-wrapped {border: 1px dashed gray;margin: 0 0.4em 0.5em 0.4em;box-sizing: border-box;padding-bottom: 0.4em;background-color: white;}#sk-container-id-37 div.sk-label label {font-family: monospace;font-weight: bold;display: inline-block;line-height: 1.2em;}#sk-container-id-37 div.sk-label-container {text-align: center;}#sk-container-id-37 div.sk-container {/* jupyter's `normalize.less` sets `[hidden] { display: none; }` but bootstrap.min.css set `[hidden] { display: none !important; }` so we also need the `!important` here to be able to override the default hidden behavior on the sphinx rendered scikit-learn.org. See: https://github.com/scikit-learn/scikit-learn/issues/21755 */display: inline-block !important;position: relative;}#sk-container-id-37 div.sk-text-repr-fallback {display: none;}</style><div id=\"sk-container-id-37\" class=\"sk-top-container\"><div class=\"sk-text-repr-fallback\"><pre>Ridge(alpha=2.5)</pre><b>In a Jupyter environment, please rerun this cell to show the HTML representation or trust the notebook. <br />On GitHub, the HTML representation is unable to render, please try loading this page with nbviewer.org.</b></div><div class=\"sk-container\" hidden><div class=\"sk-item\"><div class=\"sk-estimator sk-toggleable\"><input class=\"sk-toggleable__control sk-hidden--visually\" id=\"sk-estimator-id-37\" type=\"checkbox\" checked><label for=\"sk-estimator-id-37\" class=\"sk-toggleable__label sk-toggleable__label-arrow\">Ridge</label><div class=\"sk-toggleable__content\"><pre>Ridge(alpha=2.5)</pre></div></div></div></div></div>"
      ],
      "text/plain": [
       "Ridge(alpha=2.5)"
      ]
     },
     "execution_count": 269,
     "metadata": {},
     "output_type": "execute_result"
    }
   ],
   "source": [
    "health_score_Ridge_model.fit(X_train,y_train)"
   ]
  },
  {
   "cell_type": "code",
   "execution_count": 270,
   "id": "a54107a3",
   "metadata": {},
   "outputs": [
    {
     "name": "stdout",
     "output_type": "stream",
     "text": [
      "For Ridge_model we got an Accuracy of : 81.0%\n"
     ]
    }
   ],
   "source": [
    "Accuracy=round(health_score_Ridge_model.score(X_test,y_test),2)*100\n",
    "print(f'For Ridge_model we got an Accuracy of : {Accuracy}%')"
   ]
  },
  {
   "cell_type": "code",
   "execution_count": null,
   "id": "b2d065fa",
   "metadata": {},
   "outputs": [],
   "source": []
  }
 ],
 "metadata": {
  "kernelspec": {
   "display_name": "Python 3 (ipykernel)",
   "language": "python",
   "name": "python3"
  },
  "language_info": {
   "codemirror_mode": {
    "name": "ipython",
    "version": 3
   },
   "file_extension": ".py",
   "mimetype": "text/x-python",
   "name": "python",
   "nbconvert_exporter": "python",
   "pygments_lexer": "ipython3",
   "version": "3.10.9"
  }
 },
 "nbformat": 4,
 "nbformat_minor": 5
}
